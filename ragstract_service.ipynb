{
 "cells": [
  {
   "cell_type": "markdown",
   "id": "ad918111-fbdf-49b0-abe9-a0b8d86a9042",
   "metadata": {
    "tags": []
   },
   "source": [
    "# The AstroFest RAGstract Service\n",
    "\n",
    "This notebook implements question-and-answer functionality from selected U of I Astronomy Professors' first author publication abstracts. It uses Google's Gemini Large Language Model (LLM) and the Retrieval Augmented Generation (RAG) methodology."
   ]
  },
  {
   "cell_type": "markdown",
   "id": "7a1ea129-0882-4906-aef1-06174b1f2fda",
   "metadata": {},
   "source": [
    "LLMs are trained on text (and now image) corpuses at the scale of the internet. Unfortunately they're not trained on everything, and worse, they *hallucinate* when they don't know the answer to a question. Let's ask Gemini a question that can be answered by one of Prof. Ricker's abstracts:"
   ]
  },
  {
   "cell_type": "code",
   "execution_count": 1,
   "id": "1ae0a3ac-caef-42d7-88a9-1ed281306371",
   "metadata": {
    "tags": []
   },
   "outputs": [
    {
     "name": "stdout",
     "output_type": "stream",
     "text": [
      "## Formation of a\n",
      " 60 Solar Mass Black Hole Binary\n",
      "\n",
      "The formation of a 60 solar mass black hole binary is a complex and fascinating process that involves several stages:\n",
      "\n",
      "**1\n",
      ". Stellar Evolution:**\n",
      "\n",
      "* Two massive stars, each with a mass of at least 30 solar masses, are born in a dense stellar cluster.\n",
      "\n",
      "* These stars have short lifespans and quickly evolve, consuming their fuel and expanding into red supergiants.\n",
      "\n",
      "**2. Mass Transfer and Common Envelope Phase:**\n",
      "\n",
      "* As the stars age, they lose mass through stellar winds and Roche lobe overflow.\n",
      "* One star transfers mass to the other, creating a\n",
      " common envelope around both stars.\n",
      "* This envelope is unstable and eventually expels the stars, leaving them closer together.\n",
      "\n",
      "**3. Black Hole Formation:**\n",
      "\n",
      "* Each star collapses under its own gravity, forming a black hole.\n",
      "* The black holes continue to orbit each other due to their initial momentum and the gravitational\n",
      " interaction.\n",
      "\n",
      "**4. Binary Evolution:**\n",
      "\n",
      "* The black hole binary loses energy through gravitational wave emission, causing the black holes to spiral closer together.\n",
      "* This process can take millions or even billions of years.\n",
      "\n",
      "**5. Merger:**\n",
      "\n",
      "* Eventually, the black holes merge into a single, more massive black hole.\n",
      "* This merger releases a tremendous amount of energy in the form of gravitational waves.\n",
      "\n",
      "**Additional Factors:**\n",
      "\n",
      "* The formation of a 60 solar\n",
      " mass black hole binary is rare and requires specific conditions, such as a dense stellar cluster and massive stars.\n",
      "* The exact details of the formation process can vary depending on the specific properties of the stars involved.\n",
      "\n",
      "**Current Research:**\n",
      "\n",
      "* Astronomers are actively searching for black hole binaries using gravitational wave detectors like LIGO and Virgo.\n",
      "* These detectors have already observed several black hole mergers, including one involving a 62 solar mass black hole binary.\n",
      "* Further\n",
      " observations and theoretical studies will help us understand the formation and evolution of these fascinating objects.\n",
      "\n",
      "**Note:** This is a simplified explanation of a complex process. The actual formation of a 60 solar mass black hole binary can involve additional steps and variations.\n"
     ]
    }
   ],
   "source": [
    "from vertexai.preview.generative_models import GenerativeModel\n",
    "\n",
    "llm = GenerativeModel(\"gemini-1.0-pro\")\n",
    "model_parameters = {\n",
    "    \"temperature\": 0, # limit response randomness (i.e., creativity)\n",
    "    \"max_output_tokens\": 800,\n",
    "    \"top_k\": 1, # limit response randomness\n",
    "}\n",
    "responses = llm.generate_content(\n",
    "    \"How can a black hole binary of 60 solar masses form?\",\n",
    "    generation_config=model_parameters,\n",
    "    stream=True\n",
    ")\n",
    "\n",
    "for response in responses:\n",
    "    print(response.text)"
   ]
  },
  {
   "cell_type": "markdown",
   "id": "6a78c7d3-2e45-458d-b8b6-25004d06f076",
   "metadata": {},
   "source": [
    "## Retrieval Augmented Generation to the rescue\n",
    "\n",
    "One solution to this problem would be to retrain the LLM so that it includes\n",
    "the documents we're interested in. For some use cases, this is the way to go,\n",
    "but there are some problems:  \n",
    "* The compute resources needed to retrain these models are *EXPENSIVE* and\n",
    "retraining is time consuming\n",
    "* The model still has knowledge of its initial training data set and can\n",
    "have trouble \"finding\" our relevant documents.\n",
    "\n",
    "Instead of retraining, RAG searches our documents directly and inserts them in our prompt to the LLM, thereby reducing the problem to a summarization task."
   ]
  },
  {
   "cell_type": "markdown",
   "id": "e26f0a46-b741-48c6-a4e7-5114009c66fe",
   "metadata": {},
   "source": [
    "## Step 1: Load data\n",
    "\n",
    "Load abstracts saved on Google Cloud Storage"
   ]
  },
  {
   "cell_type": "code",
   "execution_count": 2,
   "id": "2dd6204e-f477-43ca-9fb7-c8de3e83feed",
   "metadata": {
    "tags": []
   },
   "outputs": [
    {
     "name": "stdout",
     "output_type": "stream",
     "text": [
      "astro-abstracts has 101 abstracts\n"
     ]
    }
   ],
   "source": [
    "from google.cloud import storage\n",
    "\n",
    "BUCKET_NAME = 'astro-abstracts'\n",
    "raw_abstracts = []\n",
    "\n",
    "client = storage.Client()\n",
    "blobs = client.list_blobs(BUCKET_NAME)\n",
    "for blob in blobs:\n",
    "    raw_abstracts.append(blob.download_as_text())\n",
    "\n",
    "print(f'{BUCKET_NAME} has {len(raw_abstracts)} abstracts')"
   ]
  },
  {
   "cell_type": "markdown",
   "id": "016a132c-ed25-4501-ae84-0e0f17e487d8",
   "metadata": {},
   "source": [
    "## Step 2: Vectorize text\n",
    "\n",
    "* Use Google's text embedding \"gecko\" model to transform the abstract texts into numerical vectors.\n",
    "* Create a vector store look up table that allows us to find an abstract based on its embedding.\n",
    "* Define a function that can test for similarity between the query vector and an abstract vector."
   ]
  },
  {
   "cell_type": "code",
   "execution_count": 3,
   "id": "5b10197b-f6c3-4154-812f-f7cb4fe06267",
   "metadata": {
    "tags": []
   },
   "outputs": [
    {
     "name": "stdout",
     "output_type": "stream",
     "text": [
      "768\n",
      "(0.041647639125585556, -0.02635003998875618, -0.047203220427036285, -0.018991883844137192, 0.09575393795967102, 0.08949364721775055, 0.025993820279836655, -0.03430594876408577, 0.004437834024429321, 0.02658843994140625)\n"
     ]
    }
   ],
   "source": [
    "from vertexai.language_models import TextEmbeddingModel\n",
    "\n",
    "def get_text_embedding(text):\n",
    "    model = TextEmbeddingModel.from_pretrained('textembedding-gecko@003')\n",
    "    embeddings = model.get_embeddings([text])\n",
    "    vector = embeddings[0].values\n",
    "    return tuple(vector)\n",
    "\n",
    "abstract_embeddings = [\n",
    "    get_text_embedding(abstract) for abstract in raw_abstracts]\n",
    "print(len(abstract_embeddings[0]))\n",
    "print(abstract_embeddings[0][:10])"
   ]
  },
  {
   "cell_type": "code",
   "execution_count": 4,
   "id": "6db7ba2e-f08d-45e4-ab22-a71c37d31611",
   "metadata": {
    "tags": []
   },
   "outputs": [],
   "source": [
    "vector_store = dict(zip(abstract_embeddings, raw_abstracts))"
   ]
  },
  {
   "cell_type": "markdown",
   "id": "4aadd06a-cf6d-4cf2-866a-e3e2dea54afa",
   "metadata": {},
   "source": [
    "Now that we've vectorized our abstracts, we need a way to test for \"closeness\"\n",
    "to our query. To fascilitate this, we use the same embedding model to vectorize\n",
    "the query and use the *cosine similarity metric* to find the most relevant\n",
    "abstract.\n",
    "\n",
    "$$\n",
    "cos(\\theta) = \\frac{\\vec{q} \\cdot \\vec{a}}{\\lVert q \\rVert \\lVert a \\rVert}\n",
    "$$\n",
    "\n",
    "Where $\\vec{q}$ is the query vector and $\\vec{a}$ is the abstract vector.\n",
    "If $cos(\\theta) = 1$, then the query and abstract vectors lie in the same\n",
    "direction of the embedding space and have maximum similarity."
   ]
  },
  {
   "cell_type": "code",
   "execution_count": 5,
   "id": "9e261084-d53e-4d48-b3f9-680ed589749f",
   "metadata": {
    "tags": []
   },
   "outputs": [
    {
     "data": {
      "text/plain": [
       "('{\\n    \"title\": \"Common Envelope Evolution of Massive Stars\",\\n    \"author\": \"Ricker, Paul M. and Timmes, Frank X. and Taam, Ronald E. and Webbink, Ronald F.\",\\n    \"year\": 2019,\\n    \"text\": \"The discovery via gravitational waves of binary black hole systems with total masses greater than 60M⊙ has raised interesting questions for stellar evolution theory. Among the most promising formation channels for these systems is one involving a common envelope binary containing a low metallicity, core helium burning star with mass ⁓30 - 40M⊙ and a black hole with mass ⁓30 - 40M⊙. For this channel to be viable, the common envelope binary must eject more than half the giant star\\'s mass and reduce its orbital separation by as much as a factor of 80. We discuss issues faced in numerically simulating the common envelope evolution of such systems and present a 3D AMR simulation of the dynamical inspiral of a low-metallicity red supergiant with a massive black hole companion.\"\\n}',\n",
       " 0.7591530686488984)"
      ]
     },
     "execution_count": 5,
     "metadata": {},
     "output_type": "execute_result"
    }
   ],
   "source": [
    "import numpy as np\n",
    "\n",
    "def find_nearest_abstract(query, vector_store):\n",
    "    query_vector = get_text_embedding(query)\n",
    "    norm_query = np.linalg.norm(query_vector)\n",
    "    max_cos_similarity = 0\n",
    "    nearest_key = None\n",
    "    for key in vector_store:\n",
    "        cos_similarity = (\n",
    "            np.dot(query_vector, key) / (norm_query * np.linalg.norm(key)))\n",
    "        if cos_similarity > max_cos_similarity:\n",
    "            max_cos_similarity = cos_similarity\n",
    "            nearest_key = key\n",
    "\n",
    "    return vector_store[nearest_key], max_cos_similarity\n",
    "\n",
    "find_nearest_abstract(\n",
    "    \"How can a black hole binary of 60 solar masses form?\",\n",
    "    vector_store,\n",
    ")"
   ]
  },
  {
   "cell_type": "markdown",
   "id": "0c921bae-e1e8-43b2-8e2f-3cb10d5a04e1",
   "metadata": {},
   "source": [
    "## Step 3: Construct LLM Prompt\n",
    "\n",
    "Once we find the most relevant abstract, we inject it in a prompt to the LLM along\n",
    "with the query itself. Our prompt can also include specific instructions for\n",
    "how the response should be formatted."
   ]
  },
  {
   "cell_type": "code",
   "execution_count": 6,
   "id": "4e134000-2c3c-4b15-bc23-fab59885bae2",
   "metadata": {
    "tags": []
   },
   "outputs": [],
   "source": [
    "class RAGstractService:\n",
    "    def __init__(self, vector_store):\n",
    "        self.vector_store = vector_store\n",
    "        self.llm = GenerativeModel(\"gemini-1.0-pro\")\n",
    "        self.model_parameters = {\n",
    "            \"temperature\": 0, # limit response randomness\n",
    "            \"max_output_tokens\": 800,\n",
    "            \"top_k\": 1, # limit response randomness\n",
    "        }\n",
    "\n",
    "    def _format_prompt(self, query, abstract):\n",
    "        instructions = (\n",
    "            \"Use the text field from the following json schema to answer the \"\n",
    "            \"questions below. After your answer, include the title, author, and \"\n",
    "            \"year of publication.\"\n",
    "        )\n",
    "        return \"\\n\\n\".join([instructions, abstract, query])\n",
    "    \n",
    "    def query(self, query):\n",
    "        abstract, score = find_nearest_abstract(query, self.vector_store)\n",
    "        prompt = self._format_prompt(query, abstract)\n",
    "        responses = llm.generate_content(\n",
    "            prompt,\n",
    "            generation_config=model_parameters,\n",
    "            stream=True\n",
    "        )\n",
    "\n",
    "        output = ''\n",
    "        for response in responses:\n",
    "            output += response.text\n",
    "        \n",
    "        return output\n",
    "\n",
    "ragstract_service = RAGstractService(vector_store)"
   ]
  },
  {
   "cell_type": "markdown",
   "id": "fb263bb9-15fd-4d57-9b4e-56c47557d972",
   "metadata": {
    "tags": []
   },
   "source": [
    "## Step 4: Query the RAGstract Service"
   ]
  },
  {
   "cell_type": "markdown",
   "id": "c8cf17e9-5913-4136-a337-5254ca795daf",
   "metadata": {},
   "source": [
    "### How can a black hole binary of 60 solar masses form?"
   ]
  },
  {
   "cell_type": "code",
   "execution_count": 7,
   "id": "2307c769-b76d-4aae-8975-ec064ad716af",
   "metadata": {
    "tags": []
   },
   "outputs": [
    {
     "name": "stdout",
     "output_type": "stream",
     "text": [
      "One possible formation channel for black hole binaries with total masses greater than 60 solar masses involves a common envelope binary containing a low metallicity, core helium burning star with mass ⁓30 - 40M⊙ and a black hole with mass ⁓30 - 40M⊙. For this channel to be viable, the common envelope binary must eject more than half the giant star's mass and reduce its orbital separation by as much as a factor of 80.\n",
      "\n",
      "**Title:** Common Envelope Evolution of Massive Stars\n",
      "**Author:** Ricker, Paul M. and Timmes, Frank X. and Taam, Ronald E. and Webbink, Ronald F.\n",
      "**Year:** 2019\n"
     ]
    }
   ],
   "source": [
    "print(\n",
    "    ragstract_service.query(\n",
    "        \"How can a black hole binary of 60 solar masses form?\"\n",
    "    )\n",
    ")"
   ]
  },
  {
   "cell_type": "markdown",
   "id": "804caf97-8502-4027-b433-2817d19c748d",
   "metadata": {},
   "source": [
    "### How often should hypernova occur based on elemental abundances of lithium, beryllium, and boron?"
   ]
  },
  {
   "cell_type": "code",
   "execution_count": 8,
   "id": "5f1da6dd-dce0-4667-8967-3ef9426d884f",
   "metadata": {
    "tags": []
   },
   "outputs": [
    {
     "name": "stdout",
     "output_type": "stream",
     "text": [
      "Based on the elemental abundances of lithium, beryllium, and boron, hypernovae should be rare events, with less than approximately 3 × 10^-2 hypernovae per supernova. This assumes a constant hypernova to supernova ratio over time.\n",
      "\n",
      "**Title:** Production of Lithium, Beryllium, and Boron by Hypernovae and the Possible Hypernova-Gamma-Ray Burst Connection\n",
      "**Author:** Fields, Brian D. and Daigne, Frédéric and Cassé, Michel and Vangioni-Flam, Elisabeth\n",
      "**Year:** 2002\n"
     ]
    }
   ],
   "source": [
    "print(\n",
    "    ragstract_service.query(\n",
    "        \"How often should hypernova occur based on elemental abundances of \"\n",
    "        \"lithium, beryllium, and boron?\"\n",
    "    )\n",
    ")"
   ]
  },
  {
   "cell_type": "markdown",
   "id": "418142e1-1228-4cd3-bd0d-acdc33eab7db",
   "metadata": {},
   "source": [
    "### What are the specifications of the Terahertz Intensity Mapper?"
   ]
  },
  {
   "cell_type": "code",
   "execution_count": 9,
   "id": "3b7a920e-1160-4fc1-a389-9103edbef8b8",
   "metadata": {
    "tags": []
   },
   "outputs": [
    {
     "name": "stdout",
     "output_type": "stream",
     "text": [
      "The Terahertz Intensity Mapper (TIM) is an integral-field spectrometer that operates in the far-infrared (FIR) wavelength range of 240-420 microns. It has 3600 kinetic-inductance detectors (KIDs) and is coupled to a 2-meter low-emissivity carbon fiber telescope.\n",
      "\n",
      "**Title:** The Terahertz Intensity Mapper (TIM): a Next-Generation Experiment for Galaxy Evolution Studies\n",
      "**Author:** Vieira, Joaquin et al.\n",
      "**Year:** 2020\n"
     ]
    }
   ],
   "source": [
    "print(\n",
    "    ragstract_service.query(\n",
    "        \"What are the specifications of the Terahertz Intensity Mapper?\"\n",
    "    )\n",
    ")"
   ]
  },
  {
   "cell_type": "markdown",
   "id": "952c7984-0eca-4e4a-8ae4-4389f5a8cb3d",
   "metadata": {},
   "source": [
    "### What is the seperation between the AGN in SDSS object J0924+0510?"
   ]
  },
  {
   "cell_type": "code",
   "execution_count": 10,
   "id": "3d8ca4db-3133-4f50-acd1-d7a029b90f0e",
   "metadata": {
    "tags": []
   },
   "outputs": [
    {
     "name": "stdout",
     "output_type": "stream",
     "text": [
      "The projected physical separation between the AGN in SDSS object J0924+0510 is 1 kpc.\n",
      "\n",
      "Title: Hubble Space Telescope Wide Field Camera 3 Identifies an rp = 1 Kpc Dual Active Galactic Nucleus in the Minor Galaxy Merger SDSS J0924+0510 at z = 0.1495\n",
      "\n",
      "Author: Xin Liu, Hengxiao Guo, Yue Shen, Jenny E. Greene, Michael A. Strauss\n",
      "\n",
      "Year: 2018\n"
     ]
    }
   ],
   "source": [
    "print(\n",
    "    ragstract_service.query(\n",
    "        \"What is the seperation between the AGN in SDSS object J0924+0510?\"\n",
    "    )\n",
    ")"
   ]
  },
  {
   "cell_type": "markdown",
   "id": "45d4d9bf-0d67-4660-bbae-d042aabf9717",
   "metadata": {},
   "source": [
    "### How many bolometers does the current receiver on SPT have?"
   ]
  },
  {
   "cell_type": "code",
   "execution_count": 11,
   "id": "377cf97a-22e3-44c2-a513-8ebeb911144a",
   "metadata": {
    "tags": []
   },
   "outputs": [
    {
     "name": "stdout",
     "output_type": "stream",
     "text": [
      "The current receiver on the South Pole Telescope, SPT-3G, uses a 68x fMux system to operate its large-format camera of ∼16,000 TES bolometers. \n",
      "\n",
      "Title: On-Sky Performance of the SPT-3G Frequency-Domain Multiplexed Readout\n",
      "Author: Bender, A. N.; Anderson, A. J.; Avva, J. S.; Ade, P. A. R.; Ahmed, Z.; Barry, P. S.; Basu Thakur, R.; Benson, B. A.; Bryant, L.; Byrum, K.; Carlstrom, J. E.; Carter, F. W.; Cecil, T. W.; Chang, C. L.; Cho, H. -M.; Cliche, J. F.; Cukierman, A.; de Haan, T.; Denison, E. V.; Ding, J.; Dobbs, M. A.; Dutcher, D.; Everett, W.; Ferguson, K. R.; Foster, A.; Fu, J.; Gallicchio, J.; Gambrel, A. E.; Gardner, R. W.; Gilbert, A.; Groh, J. C.; Guns, S.; Guyser, R.; Halverson, N. W.; Harke-Hosemann, A. H.; Harrington, N. L.; Henning, J. W.; Hilton, G. C.; Holzapfel, W. L.; Howe, D.; Huang, N.; Irwin, K. D.; Jeong, O. B.; Jonas, M.; Jones, A.; Khaire, T. S.; Kofman, A. M.; Korman, M.; Kubik, D. L.; Kuhlmann, S.; Kuo, C. -L.; Lee, A. T.; Leitch, E. M.; Lowitz, A. E.; Meyer, S. S.; Michalik, D.; Montgomery, J.; Nadolski, A.; Natoli, T.; Nguyen, H.; Noble, G. I.; Novosad, V.; Padin, S.; Pan, Z.; Paschos, P.; Pearson, J.; Posada, C. M.; Quan, W.; Rahlin, A.; Riebel, D.; Ruhl, J. E.; Sayre, J. T.; Shirokoff, E.; Smecher, G.; Sobrin, J. A.; Stark, A. A.; Stephen, J.; Story, K. T.; Suzuki, A.; Thompson, K. L.; Tucker, C.; Vale, L. R.; Vanderlinde, K.; Vieira, J. D.; Wang, G.; Whitehorn, N.; Yefremenko, V.; Yoon, K. W.; Young, M. R.\n",
      "Year: 2020\n"
     ]
    }
   ],
   "source": [
    "print(\n",
    "    ragstract_service.query(\n",
    "        \"How many bolometers does the current receiver on SPT have?\"\n",
    "    )\n",
    ")"
   ]
  },
  {
   "cell_type": "markdown",
   "id": "fe3d0556-eae1-4f71-bc43-07c4f6df4040",
   "metadata": {},
   "source": [
    "### What is the gas density power law resulting from the simulation of a cluster of weakly collisional particles around a massive black hole?"
   ]
  },
  {
   "cell_type": "code",
   "execution_count": 12,
   "id": "a0adde2d-48f4-4064-a2f3-5046a4b549ba",
   "metadata": {
    "tags": []
   },
   "outputs": [
    {
     "name": "stdout",
     "output_type": "stream",
     "text": [
      "The self-interacting dark matter density power law resulting from the simulation of a cluster of weakly collisional particles around a massive black hole is r-β, where β=(a+3)/4.\n",
      "\n",
      "**Title:** Self-interacting dark matter cusps around massive black holes\n",
      "**Author:** Shapiro, S. L. & Paschalidis, V.\n",
      "**Year:** 2014\n"
     ]
    }
   ],
   "source": [
    "print(\n",
    "    ragstract_service.query(\n",
    "        \"What is the self-interacting dark matter density power law \"\n",
    "        \"resulting from the simulation of a cluster of weakly collisional \"\n",
    "        \"particles around a massive black hole?\"\n",
    "    )\n",
    ")"
   ]
  }
 ],
 "metadata": {
  "environment": {
   "kernel": "python3",
   "name": "tf2-cpu.2-11.m119",
   "type": "gcloud",
   "uri": "us-docker.pkg.dev/deeplearning-platform-release/gcr.io/tf2-cpu.2-11:m119"
  },
  "kernelspec": {
   "display_name": "Python 3 (Local)",
   "language": "python",
   "name": "python3"
  },
  "language_info": {
   "codemirror_mode": {
    "name": "ipython",
    "version": 3
   },
   "file_extension": ".py",
   "mimetype": "text/x-python",
   "name": "python",
   "nbconvert_exporter": "python",
   "pygments_lexer": "ipython3",
   "version": "3.10.14"
  }
 },
 "nbformat": 4,
 "nbformat_minor": 5
}
